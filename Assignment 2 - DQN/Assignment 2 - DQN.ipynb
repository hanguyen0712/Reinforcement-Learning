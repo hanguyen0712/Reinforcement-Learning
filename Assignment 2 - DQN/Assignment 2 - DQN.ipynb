{
 "cells": [
  {
   "cell_type": "code",
   "execution_count": 1,
   "metadata": {},
   "outputs": [],
   "source": [
    "import gym\n",
    "import matplotlib\n",
    "import matplotlib.pyplot as plt\n",
    "import numpy as np\n",
    "import random\n",
    "from collections import deque\n",
    "from DQN_agent import DQN\n",
    "\n",
    "import torch\n",
    "import torch.optim as optim\n",
    "import torch.nn as nn\n",
    "import torch.nn.functional as F\n",
    "import torchvision.transforms as T\n",
    "\n",
    "%matplotlib inline \n",
    "if 'inline' in matplotlib.get_backend():\n",
    "    from IPython import display"
   ]
  },
  {
   "cell_type": "code",
   "execution_count": 2,
   "metadata": {},
   "outputs": [],
   "source": [
    "# create environment & define params\n",
    "\n",
    "env = gym.make('MountainCar-v0')"
   ]
  },
  {
   "cell_type": "code",
   "execution_count": 3,
   "metadata": {},
   "outputs": [],
   "source": [
    "def game_play(env, n_trials):\n",
    "    '''Let the DQN agent play Mountain Car'''\n",
    "    \n",
    "    # list to store steps required to complete each game\n",
    "    reward_list = []\n",
    "    \n",
    "    # create new DQN object\n",
    "    dqn = DQN(env)\n",
    "\n",
    "    for i in range(n_trials):\n",
    "        state = env.reset()\n",
    "        state = dqn.state_to_float(state)\n",
    "        terminal = False\n",
    "        cur_reward = 0\n",
    "        \n",
    "        while not terminal:\n",
    "\n",
    "            # render for the last 10 episodes\n",
    "            if i >= (n_trials - 5): \n",
    "                env.render()\n",
    "\n",
    "            # choose action:\n",
    "            action = dqn.choose_action(state)\n",
    "            \n",
    "            # find next state & reward\n",
    "            next_state, reward, terminal, _ = env.step(action)\n",
    "            next_state = dqn.state_to_float(next_state)\n",
    "            # append to memory\n",
    "            dqn.add_memory(state, action, reward, next_state, terminal)\n",
    "            state = next_state\n",
    "            \n",
    "            if terminal:\n",
    "                break\n",
    "                \n",
    "            cur_reward += reward\n",
    "            dqn.replay_memory()\n",
    "        \n",
    "            # update target network\n",
    "            dqn.target_update(abs(cur_reward))\n",
    "                    \n",
    "        reward_list.append(cur_reward)\n",
    "        # update epsilon\n",
    "        dqn.epsilon = dqn.epsilon_update()\n",
    "        \n",
    "        if i%100 == 0:\n",
    "            print(f'Game {i}; reward {cur_reward}; epsilon {dqn.epsilon}')\n",
    "\n",
    "    env.close()\n",
    "        \n",
    "    return reward_list"
   ]
  },
  {
   "cell_type": "code",
   "execution_count": 4,
   "metadata": {},
   "outputs": [
    {
     "name": "stdout",
     "output_type": "stream",
     "text": [
      "Game 0; reward -199.0; epsilon 0.9895050000000001\n"
     ]
    }
   ],
   "source": [
    "reward_list = game_play(env, 10)"
   ]
  }
 ],
 "metadata": {
  "kernelspec": {
   "display_name": "Python 3",
   "language": "python",
   "name": "python3"
  },
  "language_info": {
   "codemirror_mode": {
    "name": "ipython",
    "version": 3
   },
   "file_extension": ".py",
   "mimetype": "text/x-python",
   "name": "python",
   "nbconvert_exporter": "python",
   "pygments_lexer": "ipython3",
   "version": "3.7.3"
  }
 },
 "nbformat": 4,
 "nbformat_minor": 2
}
