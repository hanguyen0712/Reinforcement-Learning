{
 "cells": [
  {
   "cell_type": "code",
   "execution_count": 22,
   "metadata": {},
   "outputs": [],
   "source": [
    "import gym\n",
    "import matplotlib\n",
    "import matplotlib.pyplot as plt\n",
    "import numpy as np\n",
    "import random\n",
    "\n",
    "%matplotlib inline \n",
    "if 'inline' in matplotlib.get_backend():\n",
    "    from IPython import display"
   ]
  },
  {
   "cell_type": "code",
   "execution_count": 23,
   "metadata": {},
   "outputs": [
    {
     "name": "stdout",
     "output_type": "stream",
     "text": [
      "Number of actions possible:  3\n",
      "Observation space:  Box(-1.2000000476837158, 0.6000000238418579, (2,), float32)\n",
      "Highest value:  [0.6  0.07]\n",
      "Lowest value:  [-1.2  -0.07]\n"
     ]
    }
   ],
   "source": [
    "# make gym environment\n",
    "env = gym.make('MountainCar-v0')\n",
    "\n",
    "# print action space, observation space\n",
    "\n",
    "n_action = env.action_space.n\n",
    "env_low = env.observation_space.low\n",
    "env_high = env.observation_space.high\n",
    "bins = 30 # number of states for discretization\n",
    "\n",
    "print('Number of actions possible: ', n_action)\n",
    "print('Observation space: ', env.observation_space)\n",
    "print('Highest value: ', env_high)\n",
    "print('Lowest value: ', env_low)"
   ]
  },
  {
   "cell_type": "code",
   "execution_count": 24,
   "metadata": {},
   "outputs": [],
   "source": [
    "# space discretization\n",
    "\n",
    "def getState(state, env_low = env_low, env_high = env_high, bins = bins):\n",
    "    \"\"\"Returns the discretized position and velocity of an observation\"\"\"\n",
    "    discretized_env = (env_high - env_low) / bins\n",
    "    discretized_pos = int((state[0] - env_low[0]) / discretized_env[0])\n",
    "    discretized_vel = int((state[1] - env_low[1]) / discretized_env[1])\n",
    "    return discretized_pos, discretized_vel"
   ]
  },
  {
   "cell_type": "markdown",
   "metadata": {},
   "source": [
    "# 0. Random agent"
   ]
  },
  {
   "cell_type": "code",
   "execution_count": 45,
   "metadata": {},
   "outputs": [],
   "source": [
    "n_eps = 100001 # number of episodes\n",
    "alpha = 0.1 # learning rate\n",
    "gamma = 0.9 # discount factor\n",
    "epsilon = 0.2 # explore-exploit tradeoff factor\n",
    "interval = 10000"
   ]
  },
  {
   "cell_type": "code",
   "execution_count": 46,
   "metadata": {},
   "outputs": [],
   "source": [
    "# establish q-table\n",
    "q_table_rand = np.zeros((bins, bins, env.action_space.n))"
   ]
  },
  {
   "cell_type": "code",
   "execution_count": 47,
   "metadata": {},
   "outputs": [
    {
     "name": "stdout",
     "output_type": "stream",
     "text": [
      "Game no.:  0 epsilon:  0.2 with reward:  -200.0\n",
      "Game no.:  10000 epsilon:  0.2 with reward:  -200.0\n",
      "Game no.:  20000 epsilon:  0.2 with reward:  -200.0\n",
      "Game no.:  30000 epsilon:  0.2 with reward:  -200.0\n",
      "Game no.:  40000 epsilon:  0.2 with reward:  -200.0\n",
      "Game no.:  50000 epsilon:  0.2 with reward:  -200.0\n",
      "Game no.:  60000 epsilon:  0.2 with reward:  -200.0\n",
      "Game no.:  70000 epsilon:  0.2 with reward:  -200.0\n",
      "Game no.:  80000 epsilon:  0.2 with reward:  -200.0\n",
      "Game no.:  90000 epsilon:  0.2 with reward:  -200.0\n",
      "Game no.:  100000 epsilon:  0.2 with reward:  -200.0\n"
     ]
    }
   ],
   "source": [
    "# store reward\n",
    "rewards_rand = []\n",
    "\n",
    "# training \n",
    "\n",
    "for ep in range(n_eps):\n",
    "    \n",
    "    state = env.reset()\n",
    "    current_reward = 0\n",
    "    done = False\n",
    "\n",
    "    # discretize the state\n",
    "    pos, vel = getState(state)\n",
    "\n",
    "    while not done:\n",
    "        \n",
    "        # render for the last 10 episodes\n",
    "        if ep >= (n_eps - 10): \n",
    "            env.render()\n",
    "\n",
    "        # next action\n",
    "        action = env.action_space.sample()\n",
    "\n",
    "        # next state\n",
    "        next_state, reward, done, info = env.step(action)\n",
    "        # discretize next state\n",
    "        next_pos, next_vel = getState(next_state)\n",
    "\n",
    "        if done and next_state[0] >= env.goal_position:\n",
    "            q_table_q[next_pos][next_vel][action] = reward\n",
    "        \n",
    "        else:\n",
    "            # update Q value: Q(S, A) <-- Q(S, A) + alpha [R + gamma * Q(S', A') - Q(S, A)]\n",
    "            q_table_q[pos][vel][action] += \\\n",
    "            alpha * (reward + gamma * np.max(q_table_q[next_pos][next_vel]) - q_table_q[pos][vel][action])\n",
    "        \n",
    "            \n",
    "        # reassign state, action, reward\n",
    "        state = next_state\n",
    "        pos, vel = next_pos, next_vel\n",
    "        current_reward += reward\n",
    "\n",
    "    if ep % interval == 0:\n",
    "        print('Game no.: ', ep, 'epsilon: ', epsilon, 'with reward: ', current_reward)\n",
    "    rewards_rand.append(current_reward)\n",
    "\n",
    "env.close()"
   ]
  },
  {
   "cell_type": "code",
   "execution_count": 48,
   "metadata": {},
   "outputs": [
    {
     "data": {
      "image/png": "[encoded data removed]",
      "text/plain": [
       "<Figure size 432x288 with 1 Axes>"
      ]
     },
     "metadata": {
      "needs_background": "light"
     },
     "output_type": "display_data"
    }
   ],
   "source": [
    "plt.figure()\n",
    "plt.plot([i for i in range(n_eps)], rewards_rand)\n",
    "plt.xlabel('Episode')\n",
    "plt.ylabel('Reward')\n",
    "plt.title('Random agent performance on Mountain Car')\n",
    "plt.show()"
   ]
  },
  {
   "cell_type": "markdown",
   "metadata": {},
   "source": [
    "# 1. Q-Learning"
   ]
  },
  {
   "cell_type": "code",
   "execution_count": 25,
   "metadata": {},
   "outputs": [],
   "source": [
    "n_eps = 100001 # number of episodes\n",
    "alpha = 0.1 # learning rate\n",
    "gamma = 0.9 # discount factor\n",
    "epsilon = 0.2 # explore-exploit tradeoff factor\n",
    "interval = 10000"
   ]
  },
  {
   "cell_type": "code",
   "execution_count": 26,
   "metadata": {},
   "outputs": [],
   "source": [
    "# choose action\n",
    "def chooseAction(pos, vel, q_table, epsilon = epsilon):\n",
    "    \"\"\"Choose action based on an epsilon greedy strategy\"\"\"\n",
    "\n",
    "    if random.random() < epsilon: # explore\n",
    "        action = env.action_space.sample()\n",
    "    else: # exploit\n",
    "        action = np.argmax(q_table[pos][vel])\n",
    "    return action"
   ]
  },
  {
   "cell_type": "code",
   "execution_count": 27,
   "metadata": {},
   "outputs": [],
   "source": [
    "# establish q-table\n",
    "q_table_q = np.zeros((bins, bins, env.action_space.n))"
   ]
  },
  {
   "cell_type": "code",
   "execution_count": 28,
   "metadata": {},
   "outputs": [
    {
     "name": "stdout",
     "output_type": "stream",
     "text": [
      "Game no.:  0 epsilon:  0.19999600003999962 with reward:  -200.0\n",
      "Game no.:  10000 epsilon:  0.16374287572423812 with reward:  -170.0\n",
      "Game no.:  20000 epsilon:  0.1340613279519637 with reward:  -147.0\n",
      "Game no.:  30000 epsilon:  0.10976013199201175 with reward:  -178.0\n",
      "Game no.:  40000 epsilon:  0.08986399552315864 with reward:  -200.0\n",
      "Game no.:  50000 epsilon:  0.07357441672877993 with reward:  -200.0\n",
      "Game no.:  60000 epsilon:  0.060237637615224854 with reward:  -146.0\n",
      "Game no.:  70000 epsilon:  0.04931840640802185 with reward:  -170.0\n",
      "Game no.:  80000 epsilon:  0.04037849601877588 with reward:  -143.0\n",
      "Game no.:  90000 epsilon:  0.033059116453387716 with reward:  -200.0\n",
      "Game no.:  100000 epsilon:  0.027066515309793926 with reward:  -200.0\n"
     ]
    }
   ],
   "source": [
    "# store reward\n",
    "rewards_q = []\n",
    "\n",
    "# training \n",
    "\n",
    "for ep in range(n_eps):\n",
    "    \n",
    "    state = env.reset()\n",
    "    current_reward = 0\n",
    "    done = False\n",
    "\n",
    "    # discretize the state\n",
    "    pos, vel = getState(state)\n",
    "\n",
    "    while not done:\n",
    "        \n",
    "        # render for the last 10 episodes\n",
    "        if ep >= (n_eps - 10): \n",
    "            env.render()\n",
    "\n",
    "        # next action\n",
    "        action = chooseAction(pos, vel, q_table_q)\n",
    "\n",
    "        # next state\n",
    "        next_state, reward, done, info = env.step(action)\n",
    "        # discretize next state\n",
    "        next_pos, next_vel = getState(next_state)\n",
    "\n",
    "        if done and next_state[0] >= env.goal_position:\n",
    "            q_table_q[next_pos][next_vel][action] = reward\n",
    "        \n",
    "        else:\n",
    "            # update Q value: Q(S, A) <-- Q(S, A) + alpha [R + gamma * Q(S', A') - Q(S, A)]\n",
    "            q_table_q[pos][vel][action] += \\\n",
    "            alpha * (reward + gamma * np.max(q_table_q[next_pos][next_vel]) - q_table_q[pos][vel][action])\n",
    "        \n",
    "            \n",
    "        # reassign state, action, reward\n",
    "        state = next_state\n",
    "        pos, vel = next_pos, next_vel\n",
    "        current_reward += reward\n",
    "\n",
    "    # update epsilon\n",
    "    if epsilon > 0:\n",
    "        epsilon*= (n_eps - 2)/n_eps\n",
    "\n",
    "    if ep % interval == 0:\n",
    "        print('Game no.: ', ep, 'epsilon: ', epsilon, 'with reward: ', current_reward)\n",
    "    rewards_q.append(current_reward)\n",
    "\n",
    "env.close()"
   ]
  },
  {
   "cell_type": "code",
   "execution_count": 39,
   "metadata": {},
   "outputs": [
    {
     "data": {
      "image/png": "[encoded data removed]",
      "text/plain": [
       "<Figure size 432x288 with 1 Axes>"
      ]
     },
     "metadata": {
      "needs_background": "light"
     },
     "output_type": "display_data"
    }
   ],
   "source": [
    "plt.figure()\n",
    "plt.plot([i for i in range(n_eps)], rewards_q)\n",
    "plt.xlabel('Episode')\n",
    "plt.ylabel('Reward')\n",
    "plt.title('Q-learning performance on Mountain Car')\n",
    "plt.show()"
   ]
  },
  {
   "cell_type": "markdown",
   "metadata": {},
   "source": [
    "Animation links: https://drive.google.com/file/d/1_BqzQxRW02AGrcyGJGzTMWcn51dYNHHx/view?usp=sharing"
   ]
  },
  {
   "cell_type": "markdown",
   "metadata": {},
   "source": [
    "# 2. SARSA"
   ]
  },
  {
   "cell_type": "code",
   "execution_count": 34,
   "metadata": {},
   "outputs": [],
   "source": [
    "n_eps = 100001 # number of episodes\n",
    "alpha = 0.1 # learning rate\n",
    "gamma = 0.9 # discount factor\n",
    "epsilon = 0.2 # explore-exploit tradeoff factor\n",
    "interval = 10000"
   ]
  },
  {
   "cell_type": "code",
   "execution_count": 35,
   "metadata": {},
   "outputs": [],
   "source": [
    "# establish q-table\n",
    "q_table_sarsa = np.zeros((bins, bins, env.action_space.n))"
   ]
  },
  {
   "cell_type": "code",
   "execution_count": 36,
   "metadata": {},
   "outputs": [
    {
     "name": "stdout",
     "output_type": "stream",
     "text": [
      "Game no.:  0 epsilon:  0.19999800001999982 with reward:  -200.0\n",
      "Game no.:  10000 epsilon:  0.18096576443280718 with reward:  -146.0\n",
      "Game no.:  20000 epsilon:  0.1637446769141458 with reward:  -164.0\n",
      "Game no.:  30000 epsilon:  0.14816238475689036 with reward:  -154.0\n",
      "Game no.:  40000 epsilon:  0.13406293670455294 with reward:  -160.0\n",
      "Game no.:  50000 epsilon:  0.12130522215432456 with reward:  -150.0\n",
      "Game no.:  60000 epsilon:  0.10976155888885816 with reward:  -147.0\n",
      "Game no.:  70000 epsilon:  0.09931641520251411 with reward:  -150.0\n",
      "Game no.:  80000 epsilon:  0.08986525363279563 with reward:  -118.0\n",
      "Game no.:  90000 epsilon:  0.08131348472475068 with reward:  -158.0\n",
      "Game no.:  100000 epsilon:  0.07357552035739598 with reward:  -143.0\n"
     ]
    }
   ],
   "source": [
    "# store reward\n",
    "rewards_sarsa = []\n",
    "\n",
    "# training \n",
    "\n",
    "for ep in range(n_eps):\n",
    "    \n",
    "    current_reward = 0\n",
    "    done = False\n",
    "\n",
    "    state = env.reset()\n",
    "    # discretize the state\n",
    "    pos, vel = getState(state)\n",
    "    # choose first action\n",
    "    action = chooseAction(pos, vel, q_table_sarsa)\n",
    "\n",
    "    while not done:\n",
    "        \n",
    "        # render for the last 10 episodes\n",
    "        if ep >= (n_eps - 10): \n",
    "            env.render()\n",
    "            \n",
    "        # next state\n",
    "        next_state, reward, done, info = env.step(action)\n",
    "\n",
    "        # discretize the state\n",
    "        next_pos, next_vel = getState(next_state)\n",
    "        # next action\n",
    "        next_action = chooseAction(next_pos, next_vel, q_table_sarsa)\n",
    "\n",
    "        if done and next_state[0] >= env.goal_position:\n",
    "            q_table_q[next_pos][next_vel][action] = reward\n",
    "        \n",
    "        else:\n",
    "            # update Q value: Q(S, A) <-- Q(S, A) + alpha [R + gamma * Q(S', A') - Q(S, A)]\n",
    "            q_table_sarsa[pos][vel][action] += \\\n",
    "            alpha * (reward + gamma * q_table_sarsa[next_pos][next_vel][next_action] - q_table_sarsa[pos][vel][action])\n",
    "        \n",
    "        # reassign state, action, reward\n",
    "        state = next_state\n",
    "        pos, vel = next_pos, next_vel\n",
    "        action = next_action\n",
    "        current_reward += reward\n",
    "    \n",
    "    # update epsilon\n",
    "    if epsilon > 0:\n",
    "        epsilon*= (n_eps - 1)/n_eps\n",
    "\n",
    "    if ep % interval == 0:\n",
    "        print('Game no.: ', ep, 'epsilon: ', epsilon, 'with reward: ', current_reward)\n",
    "    rewards_sarsa.append(current_reward)\n",
    "\n",
    "env.close()"
   ]
  },
  {
   "cell_type": "code",
   "execution_count": 40,
   "metadata": {},
   "outputs": [
    {
     "data": {
      "image/png": "[encoded data removed]",
      "text/plain": [
       "<Figure size 432x288 with 1 Axes>"
      ]
     },
     "metadata": {
      "needs_background": "light"
     },
     "output_type": "display_data"
    }
   ],
   "source": [
    "plt.figure()\n",
    "plt.plot([i for i in range(n_eps)], rewards_sarsa)\n",
    "plt.xlabel('Episode')\n",
    "plt.ylabel('Reward')\n",
    "plt.title('SARSA performance on the Moutain Car game')\n",
    "plt.show()"
   ]
  },
  {
   "cell_type": "markdown",
   "metadata": {},
   "source": [
    "Animation link: https://drive.google.com/file/d/1YOhF1u6_2XtVRdwSw64PmAHvMiapsyJm/view?usp=sharing"
   ]
  }
 ],
 "metadata": {
  "kernelspec": {
   "display_name": "Python 3",
   "language": "python",
   "name": "python3"
  },
  "language_info": {
   "codemirror_mode": {
    "name": "ipython",
    "version": 3
   },
   "file_extension": ".py",
   "mimetype": "text/x-python",
   "name": "python",
   "nbconvert_exporter": "python",
   "pygments_lexer": "ipython3",
   "version": "3.7.3"
  }
 },
 "nbformat": 4,
 "nbformat_minor": 2
}
